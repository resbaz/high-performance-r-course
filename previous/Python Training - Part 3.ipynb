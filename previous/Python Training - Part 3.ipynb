{
 "cells": [
  {
   "cell_type": "markdown",
   "metadata": {
    "slideshow": {
     "slide_type": "slide"
    }
   },
   "source": [
    "## Part 3: Parallel Programming\n",
    "    "
   ]
  },
  {
   "cell_type": "markdown",
   "metadata": {
    "collapsed": true,
    "slideshow": {
     "slide_type": "notes"
    }
   },
   "source": [
    "Time to break out the big guns. If your code is still taking too long and you've picked all the low-hanging fruit, it's time to think about parallel programming. \n",
    "\n",
    "Modern computers get their speed from having multiple cores, from the four or so in your laptop, to thousands in a supercomputer. But your code doesn't usually 'know' how to take advantage of these resources by itself -- you have to figure out how to break up your code into pieces that can run on different cores at the same time.\n",
    "\n",
    "This can range from easy to exceedingly complicated depending on task requirements and scale. But often you can get by with some simple tricks. "
   ]
  },
  {
   "cell_type": "markdown",
   "metadata": {
    "slideshow": {
     "slide_type": "slide"
    }
   },
   "source": [
    "## Parallel Programming Approaches\n",
    "\n",
    "* Embarassingly Parallel\n",
    "* Multicore\n",
    "* Multinode\n"
   ]
  },
  {
   "cell_type": "markdown",
   "metadata": {
    "slideshow": {
     "slide_type": "slide"
    }
   },
   "source": [
    "### Embarassingly Parallel\n",
    "\n",
    "<center><img src=\"embarassing.png\" width=\"40%\" ></center>\n",
    "\n",
    "Embarassing because *embarrassingly* easy to make this run in parallel."
   ]
  },
  {
   "cell_type": "markdown",
   "metadata": {
    "slideshow": {
     "slide_type": "notes"
    }
   },
   "source": [
    "Embarassingly parallel is where each unit of computation is completely independent of the others. For instance, if you're batch processing a set of images and you only care about one image at a time.\n",
    "\n",
    "This is the easiest case to deal with! Perhaps you have a bunch of files to process? Or you need to run a model across a range of a range of parameters, and each run is independent? We can run one job per computer, or perhaps a couple per computer (but isolated from one other) to get the speed we need."
   ]
  },
  {
   "cell_type": "markdown",
   "metadata": {
    "slideshow": {
     "slide_type": "slide"
    }
   },
   "source": [
    "#### Embarassingly Parallel in Python\n",
    "\n",
    "_Simplest_: Just run multiple Python instances at the same time (e.g. one per dataset).\n",
    "\n",
    "```\n",
    "python my_code.py data_1.dat &\n",
    "python my_code.py data_2.dat &\n",
    "python my_code.py data_3.dat &\n",
    "python my_code.py data_4.dat &\n",
    "```\n"
   ]
  },
  {
   "cell_type": "markdown",
   "metadata": {
    "slideshow": {
     "slide_type": "notes"
    }
   },
   "source": [
    "This is the easiest approach -- just run multiple copies of your program at once with different inputs. The operating system will distribute these over the multiple cores of your computer, but keep in mind that if you create more instances than cores in your computer (typically 2-4) you mightn't see an additional speedup. Memory also has to be shared between the different processes. \n",
    "\n",
    "Embarassingly parallel includes not just running multiple jobs on the same computer, but also across multiple computers. We'll talk about how to do this on a supercomputer later.\n",
    "\n",
    "(The '&' in the above example is unix for 'run in background'... we could achieve the same thing by running in multiple terminal tabs, for instance.)\n"
   ]
  },
  {
   "cell_type": "markdown",
   "metadata": {
    "slideshow": {
     "slide_type": "slide"
    }
   },
   "source": [
    "#### Embarassingly Parallel in Python\n",
    "\n",
    "Little More Advanced: Use the Python `multiprocessing` library.\n"
   ]
  },
  {
   "cell_type": "code",
   "execution_count": null,
   "metadata": {
    "collapsed": true,
    "slideshow": {
     "slide_type": "slide"
    }
   },
   "outputs": [],
   "source": [
    "from multiprocessing import Pool\n",
    "\n",
    "def process_file(filename):\n",
    "    data = open(filename).read()\n",
    "    output = my_analysis(data)\n",
    "    open('output.dat', 'w').write(output)\n",
    "\n",
    "pool = Pool(processes=8)\n",
    "input_files = ['data_1.dat', '...', 'data_8.dat']\n",
    "pool.map(process_file, input_files)"
   ]
  },
  {
   "cell_type": "markdown",
   "metadata": {
    "slideshow": {
     "slide_type": "notes"
    }
   },
   "source": [
    "This code will spin up 8 processes, run `my_analysis` on each and save the results."
   ]
  },
  {
   "cell_type": "markdown",
   "metadata": {
    "slideshow": {
     "slide_type": "slide"
    }
   },
   "source": [
    "### Multicore\n",
    "\n",
    "<center><img src=\"multicore.png\" width=\"20%\" ></center>"
   ]
  },
  {
   "cell_type": "markdown",
   "metadata": {
    "slideshow": {
     "slide_type": "notes"
    }
   },
   "source": [
    "Multicore is the next step up. This is where your program shares the load across the different cores (or CPUs) within your computer. Typically a program will only run on one core at a time, but by splitting it up into different processes or threads we can share the load. Your desktop computer probably has at least four cores, and a heavy-duty server might have 12 or more (even up to 64 or more in some specialised circumstances).\n",
    "\n",
    "Communication is all within the same computer and so communication is fast, and data can be readily shared between processes through memory."
   ]
  },
  {
   "cell_type": "markdown",
   "metadata": {
    "collapsed": true,
    "slideshow": {
     "slide_type": "slide"
    }
   },
   "source": [
    "#### Multicore in Python\n",
    "\n",
    "Let's use `multiprocessing` again"
   ]
  },
  {
   "cell_type": "code",
   "execution_count": null,
   "metadata": {
    "collapsed": true,
    "slideshow": {
     "slide_type": "-"
    }
   },
   "outputs": [],
   "source": [
    "from multiprocessing import Pool\n",
    "\n",
    "def process_file(filename):\n",
    "    data = open(filename).read()\n",
    "    return my_analysis(data) # Return single datapoint\n",
    "\n",
    "pool = Pool(processes=8)\n",
    "input_files = ['data_1.dat', '...', 'data_8.dat']\n",
    "\n",
    "# This line runs in parallel, returning an array from each process\n",
    "intermediate_results = pool.map(process_file, input_files) \n",
    "\n",
    "# This line integrates results, which is a serial process\n",
    "# (unlike embarassingly parallel)\n",
    "final_result = my_summary_analysis(intermediate_results)"
   ]
  },
  {
   "cell_type": "markdown",
   "metadata": {
    "slideshow": {
     "slide_type": "slide"
    }
   },
   "source": [
    "### Multinode\n",
    "\n",
    "<center><img src=\"multinode.png\" width=\"35%\" ></center>"
   ]
  },
  {
   "cell_type": "markdown",
   "metadata": {
    "slideshow": {
     "slide_type": "notes"
    }
   },
   "source": [
    "Multinode is the most advanced approach, but also the only way to scale up once you've used up all the resources in a single PC for a given job. Like multinode, we make use of all the cores in a given computer, but we also share the load across other computers, typically over a high-speed network. This is the essence of how a traditional supercomputer works, which we'll talk about later.\n",
    "\n",
    "Since we now have to communicate beyond a single PC, we can't use shared memory to communicate, instead we pass messages over a network, typically using a protocol called MPI -- (M)essage (P)assing (I)nterface. The only thing to be careful of is that sending messages over the network is usually slower than sending between cores, so we have to structure our problems carefully.\n",
    "\n",
    "There are some really important applications of multinode high performance computing, particularly complex physics simulations, and so it's handy to keep this in the back of your mind. But I'd say 90% of you only have to worry embarassingly parallel and multicore techniques to get your work done satisfactorily. \n",
    "\n",
    "Let's now talk about how you apply this in Python."
   ]
  },
  {
   "cell_type": "markdown",
   "metadata": {
    "slideshow": {
     "slide_type": "slide"
    }
   },
   "source": [
    "#### Multinode in Python\n",
    "\n",
    "* MPI4Py - (M)essage (P)assing (I)nterface for Python (Low Level Interface)\n",
    "* iPython Parallel - Like the `multiprocessing` library (Mid Level Interface)\n",
    "* Dask - NumPy arrays and Pandas dataframes (High Level Interface)\n",
    "\n",
    "(But suitable for multicore & embarassingly parallel too!)"
   ]
  },
  {
   "cell_type": "markdown",
   "metadata": {
    "slideshow": {
     "slide_type": "slide"
    }
   },
   "source": [
    "#### MPI4Py"
   ]
  },
  {
   "cell_type": "code",
   "execution_count": null,
   "metadata": {
    "collapsed": true,
    "slideshow": {
     "slide_type": "-"
    }
   },
   "outputs": [],
   "source": [
    "%%writefile mpi_example.py\n",
    "\n",
    "import random\n",
    "from mpi4py import MPI\n",
    "\n",
    "def monte_carlo_pi_part(n):\n",
    "    count = 0\n",
    "    for i in range(n):\n",
    "        x = random.random()\n",
    "        y = random.random()\n",
    "\n",
    "        if x * x + y * y <= 1:\n",
    "            count += 1\n",
    "    return count\n"
   ]
  },
  {
   "cell_type": "code",
   "execution_count": null,
   "metadata": {
    "collapsed": true,
    "slideshow": {
     "slide_type": "slide"
    }
   },
   "outputs": [],
   "source": [
    "%%writefile -a mpi_example.py\n",
    "\n",
    "def master():\n",
    "    points_per_node = int(n / (size - 1))\n",
    "\n",
    "    for worker in range(1, size):\n",
    "        comm.send(points_per_node, dest=worker)\n",
    "\n",
    "    received_processes = 0\n",
    "    count = 0\n",
    "\n",
    "    # Await results\n",
    "    while received_processes < (size - 1):\n",
    "        count += comm.recv(source=MPI.ANY_SOURCE)\n",
    "        received_processes += 1\n",
    "\n",
    "    print('Estimated value of Pi: %f ' % (count / (n * 1.0) * 4))\n",
    "\n",
    "def slave():\n",
    "    points_to_calculate = comm.recv(source=0)\n",
    "    count = monte_carlo_pi_part(points_to_calculate)\n",
    "    comm.send(count, dest=0)\n"
   ]
  },
  {
   "cell_type": "code",
   "execution_count": null,
   "metadata": {
    "collapsed": true,
    "slideshow": {
     "slide_type": "slide"
    }
   },
   "outputs": [],
   "source": [
    "%%writefile -a mpi_example.py\n",
    "\n",
    "# Who am I?\n",
    "comm = MPI.COMM_WORLD\n",
    "rank = comm.Get_rank()\n",
    "size = comm.Get_size()\n",
    "\n",
    "# Number of points to simulate (10 million)\n",
    "n = 10000000\n",
    "\n",
    "print('My rank: %d' % rank)\n",
    "\n",
    "if rank == 0:\n",
    "    # I'm the master, tell other nodes to do.\n",
    "    print('Simulate %d million points across %d workers' % (n / 1e6, size))\n",
    "    master()\n",
    "else:\n",
    "    # I'm the slave... await instructions then shutdown.\n",
    "    slave()"
   ]
  },
  {
   "cell_type": "code",
   "execution_count": null,
   "metadata": {
    "collapsed": true,
    "slideshow": {
     "slide_type": "slide"
    }
   },
   "outputs": [],
   "source": [
    "!mpirun -np 4 python mpi_example.py"
   ]
  },
  {
   "cell_type": "markdown",
   "metadata": {
    "slideshow": {
     "slide_type": "notes"
    }
   },
   "source": [
    "MPI (Message Passing Interface) is a very common framework for large-scale scientific computing, based on the idea of passing messages between different workers to come up with a solution. You can group workers, and communicate between them in various patterns.\n",
    "\n",
    "MPI4Py provides a simple interface to MPI. In this example we are calculating Pi using a Monte Carlo technique (taking lots of random samples to find an answer). Each worker is assigned a rank, which determines its identity. One worker passes a commands out, awaits the results and does a final tally, while the others await a command, do some calculations and then send their partial result back when done."
   ]
  },
  {
   "cell_type": "markdown",
   "metadata": {
    "slideshow": {
     "slide_type": "slide"
    }
   },
   "source": [
    "#### iPython Parallel\n",
    "\n",
    "\n",
    "http://ipyparallel.readthedocs.io\n",
    "\n",
    "* Interface for controlling multiple instances of iPython\n",
    "* Those instances could be local or remote (allowing multinode work).\n",
    "* _Focused on interactive work (like this notebook!)_\n"
   ]
  },
  {
   "cell_type": "code",
   "execution_count": 17,
   "metadata": {
    "slideshow": {
     "slide_type": "slide"
    }
   },
   "outputs": [
    {
     "data": {
      "text/plain": [
       "[0, 1, 2, 3]"
      ]
     },
     "execution_count": 17,
     "metadata": {},
     "output_type": "execute_result"
    }
   ],
   "source": [
    "# In terminal run: ipcluster start -n 4\n",
    "# This will give us four workers.\n",
    "\n",
    "# Connect\n",
    "import ipyparallel as ipp\n",
    "import time\n",
    "c = ipp.Client()\n",
    "\n",
    "# Show IDs of each worker\n",
    "c.ids"
   ]
  },
  {
   "cell_type": "code",
   "execution_count": 20,
   "metadata": {
    "collapsed": true,
    "slideshow": {
     "slide_type": "slide"
    }
   },
   "outputs": [
    {
     "ename": "NoEnginesRegistered",
     "evalue": "Can't build targets without any engines",
     "output_type": "error",
     "traceback": [
      "\u001b[0;31m---------------------------------------------------------------------------\u001b[0m",
      "\u001b[0;31mNoEnginesRegistered\u001b[0m                       Traceback (most recent call last)",
      "\u001b[0;32m<ipython-input-20-e6a24ace4b3e>\u001b[0m in \u001b[0;36m<module>\u001b[0;34m()\u001b[0m\n\u001b[1;32m      1\u001b[0m \u001b[0;31m# Fun a function across an array.\u001b[0m\u001b[0;34m\u001b[0m\u001b[0;34m\u001b[0m\u001b[0m\n\u001b[1;32m      2\u001b[0m \u001b[0;31m# Like 'map' in multiprocessing libraray, but can be across multiple computers.\u001b[0m\u001b[0;34m\u001b[0m\u001b[0;34m\u001b[0m\u001b[0m\n\u001b[0;32m----> 3\u001b[0;31m \u001b[0mc\u001b[0m\u001b[0;34m[\u001b[0m\u001b[0;34m:\u001b[0m\u001b[0;34m]\u001b[0m\u001b[0;34m.\u001b[0m\u001b[0mmap_sync\u001b[0m\u001b[0;34m(\u001b[0m\u001b[0;32mlambda\u001b[0m \u001b[0mx\u001b[0m\u001b[0;34m:\u001b[0m \u001b[0mx\u001b[0m\u001b[0;34m*\u001b[0m\u001b[0mx\u001b[0m\u001b[0;34m,\u001b[0m \u001b[0mrange\u001b[0m\u001b[0;34m(\u001b[0m\u001b[0;36m10\u001b[0m\u001b[0;34m)\u001b[0m\u001b[0;34m)\u001b[0m\u001b[0;34m\u001b[0m\u001b[0m\n\u001b[0m",
      "\u001b[0;32m/Users/davidperry/miniconda2/lib/python2.7/site-packages/ipyparallel/client/client.pyc\u001b[0m in \u001b[0;36m__getitem__\u001b[0;34m(self, key)\u001b[0m\n\u001b[1;32m   1015\u001b[0m             \u001b[0;32mraise\u001b[0m \u001b[0mTypeError\u001b[0m\u001b[0;34m(\u001b[0m\u001b[0;34m\"key by int/slice/iterable of ints only, not %s\"\u001b[0m\u001b[0;34m%\u001b[0m\u001b[0;34m(\u001b[0m\u001b[0mtype\u001b[0m\u001b[0;34m(\u001b[0m\u001b[0mkey\u001b[0m\u001b[0;34m)\u001b[0m\u001b[0;34m)\u001b[0m\u001b[0;34m)\u001b[0m\u001b[0;34m\u001b[0m\u001b[0m\n\u001b[1;32m   1016\u001b[0m         \u001b[0;32melse\u001b[0m\u001b[0;34m:\u001b[0m\u001b[0;34m\u001b[0m\u001b[0m\n\u001b[0;32m-> 1017\u001b[0;31m             \u001b[0;32mreturn\u001b[0m \u001b[0mself\u001b[0m\u001b[0;34m.\u001b[0m\u001b[0mdirect_view\u001b[0m\u001b[0;34m(\u001b[0m\u001b[0mkey\u001b[0m\u001b[0;34m)\u001b[0m\u001b[0;34m\u001b[0m\u001b[0m\n\u001b[0m\u001b[1;32m   1018\u001b[0m \u001b[0;34m\u001b[0m\u001b[0m\n\u001b[1;32m   1019\u001b[0m     \u001b[0;32mdef\u001b[0m \u001b[0m__iter__\u001b[0m\u001b[0;34m(\u001b[0m\u001b[0mself\u001b[0m\u001b[0;34m)\u001b[0m\u001b[0;34m:\u001b[0m\u001b[0;34m\u001b[0m\u001b[0m\n",
      "\u001b[0;32m/Users/davidperry/miniconda2/lib/python2.7/site-packages/ipyparallel/client/client.pyc\u001b[0m in \u001b[0;36mdirect_view\u001b[0;34m(self, targets, **kwargs)\u001b[0m\n\u001b[1;32m   1535\u001b[0m         \u001b[0;31m# allow 'all' to be lazily evaluated at each execution\u001b[0m\u001b[0;34m\u001b[0m\u001b[0;34m\u001b[0m\u001b[0m\n\u001b[1;32m   1536\u001b[0m         \u001b[0;32mif\u001b[0m \u001b[0mtargets\u001b[0m \u001b[0;34m!=\u001b[0m \u001b[0;34m'all'\u001b[0m\u001b[0;34m:\u001b[0m\u001b[0;34m\u001b[0m\u001b[0m\n\u001b[0;32m-> 1537\u001b[0;31m             \u001b[0mtargets\u001b[0m \u001b[0;34m=\u001b[0m \u001b[0mself\u001b[0m\u001b[0;34m.\u001b[0m\u001b[0m_build_targets\u001b[0m\u001b[0;34m(\u001b[0m\u001b[0mtargets\u001b[0m\u001b[0;34m)\u001b[0m\u001b[0;34m[\u001b[0m\u001b[0;36m1\u001b[0m\u001b[0;34m]\u001b[0m\u001b[0;34m\u001b[0m\u001b[0m\n\u001b[0m\u001b[1;32m   1538\u001b[0m         \u001b[0;32mif\u001b[0m \u001b[0msingle\u001b[0m\u001b[0;34m:\u001b[0m\u001b[0;34m\u001b[0m\u001b[0m\n\u001b[1;32m   1539\u001b[0m             \u001b[0mtargets\u001b[0m \u001b[0;34m=\u001b[0m \u001b[0mtargets\u001b[0m\u001b[0;34m[\u001b[0m\u001b[0;36m0\u001b[0m\u001b[0;34m]\u001b[0m\u001b[0;34m\u001b[0m\u001b[0m\n",
      "\u001b[0;32m/Users/davidperry/miniconda2/lib/python2.7/site-packages/ipyparallel/client/client.pyc\u001b[0m in \u001b[0;36m_build_targets\u001b[0;34m(self, targets)\u001b[0m\n\u001b[1;32m    579\u001b[0m             \u001b[0;31m# flush notification socket if no engines yet, just in case\u001b[0m\u001b[0;34m\u001b[0m\u001b[0;34m\u001b[0m\u001b[0m\n\u001b[1;32m    580\u001b[0m             \u001b[0;32mif\u001b[0m \u001b[0;32mnot\u001b[0m \u001b[0mself\u001b[0m\u001b[0;34m.\u001b[0m\u001b[0mids\u001b[0m\u001b[0;34m:\u001b[0m\u001b[0;34m\u001b[0m\u001b[0m\n\u001b[0;32m--> 581\u001b[0;31m                 \u001b[0;32mraise\u001b[0m \u001b[0merror\u001b[0m\u001b[0;34m.\u001b[0m\u001b[0mNoEnginesRegistered\u001b[0m\u001b[0;34m(\u001b[0m\u001b[0;34m\"Can't build targets without any engines\"\u001b[0m\u001b[0;34m)\u001b[0m\u001b[0;34m\u001b[0m\u001b[0m\n\u001b[0m\u001b[1;32m    582\u001b[0m \u001b[0;34m\u001b[0m\u001b[0m\n\u001b[1;32m    583\u001b[0m         \u001b[0;32mif\u001b[0m \u001b[0mtargets\u001b[0m \u001b[0;32mis\u001b[0m \u001b[0mNone\u001b[0m\u001b[0;34m:\u001b[0m\u001b[0;34m\u001b[0m\u001b[0m\n",
      "\u001b[0;31mNoEnginesRegistered\u001b[0m: Can't build targets without any engines"
     ]
    }
   ],
   "source": [
    "# Fun a function across an array.\n",
    "# Like 'map' in multiprocessing libraray, but can be across multiple computers.\n",
    "c[:].map_sync(lambda x: x*x, range(10))"
   ]
  },
  {
   "cell_type": "code",
   "execution_count": 19,
   "metadata": {
    "collapsed": true
   },
   "outputs": [],
   "source": [
    "# Shutdown again\n",
    "c.shutdown()"
   ]
  },
  {
   "cell_type": "markdown",
   "metadata": {
    "slideshow": {
     "slide_type": "notes"
    }
   },
   "source": [
    "Here's a quick example. We start a cluster of IPython workers, locally here, but they could be spread across hundreds of machines. We then run a simple function, multiplying 0 to 9 by itself. Each worker gets allocated a chunk of the array to calculate automatically.\n",
    "\n",
    "This is really an 'embarassingly parallel' example... but there are many other patterns possible as well. \n",
    "\n",
    "To reiterate, we could do the exact same thing using the `multiprocessing` library instead for this example... the advantage is that we can scale this beyond a single computer if need be."
   ]
  },
  {
   "cell_type": "markdown",
   "metadata": {
    "slideshow": {
     "slide_type": "slide"
    }
   },
   "source": [
    "#### Dask\n",
    "* Provides high-level Pandas- and NumPy-like interfaces\n",
    "* ...provides low level interfaces as well if needed.\n",
    "* Can run on single computer, or across a cluster.\n",
    "* Also handy for interactive work."
   ]
  },
  {
   "cell_type": "markdown",
   "metadata": {
    "slideshow": {
     "slide_type": "notes"
    }
   },
   "source": [
    "MPI is quite language-agnostic; you tend to work the same whether you're using C, Fortran or Python.\n",
    "\n",
    "Dask is different. It is Python-specific, and allows you to run calculations via a variety of interfaces, including NumPy and Pandas, across a cluster (or just across multiple cores of your own computer). It borrows some ideas from Big Data frameworks like Spark. \n",
    "\n",
    "It can be used in many different ways, but I'm going to show how you might work with a large CSV file. This can be scaled to files that are a hundred times bigger -- things that would barely fit on a local harddrive, and certainly not fit in RAM on a normal computer!\n",
    "\n",
    "Dask has some similarities with iPython Parallel. Dask is more sophisticated, but not yet as mature. If you're interested in comparing the two, this is discussed at: http://distributed.readthedocs.io/en/latest/related-work.html#id1"
   ]
  },
  {
   "cell_type": "code",
   "execution_count": 12,
   "metadata": {
    "slideshow": {
     "slide_type": "slide"
    }
   },
   "outputs": [
    {
     "name": "stdout",
     "output_type": "stream",
     "text": [
      "-rw-r--r--  1 davidperry  staff   1.8G 15 Feb  2016 /Users/davidperry/yellow_tripdata_2015-01.csv\r\n"
     ]
    }
   ],
   "source": [
    "# This is a part of the NYC Taxi Trip dataset, and it's 1.8GB for just one month worth!\n",
    "!ls -lh /Users/davidperry/yellow_tripdata_2015-01.csv\n",
    "\n",
    "\n",
    "# In my terminal, I'll run 'dask-scheduler --host 127.0.0.1:8786' and 'dask-worker 127.0.0.1:8786 --nprocs 4' \n",
    "# across two tabs so I can monitor things.\n",
    "\n",
    "# Then open http://127.0.0.1:8787/status in my browser so we can monitor what's happening."
   ]
  },
  {
   "cell_type": "markdown",
   "metadata": {
    "slideshow": {
     "slide_type": "notes"
    }
   },
   "source": [
    "Okay, this is the file... just to show you that it's rather big!\n",
    "\n",
    "I then kick off the Dask scheduler and workers. On my local machine in this case, but can also be on a cluster, as we'll talk about in final section.\n",
    "\n",
    "You can do all this from within this notebook, but I'm just doing this the long way for visbility."
   ]
  },
  {
   "cell_type": "code",
   "execution_count": 4,
   "metadata": {
    "collapsed": true,
    "slideshow": {
     "slide_type": "slide"
    }
   },
   "outputs": [],
   "source": [
    "# Create a client connecting to the cluster using defaults.\n",
    "from dask.distributed import Client\n",
    "client = Client('127.0.0.1:8786')"
   ]
  },
  {
   "cell_type": "code",
   "execution_count": 5,
   "metadata": {
    "collapsed": true
   },
   "outputs": [],
   "source": [
    "# Read that giant CSV file, and then set the index to the trip pickup time.\n",
    "# We use 'persist' to make this happen now, otherwise Dask won't compute it til we actually do something with it.\n",
    "import dask.dataframe as dd\n",
    "df = dd.read_csv('/Users/davidperry/yellow_tripdata_2015-01.csv',\n",
    "                 parse_dates=['tpep_pickup_datetime', 'tpep_dropoff_datetime'],\n",
    "                 storage_options={'anon': True})\n",
    "df = client.persist(df.set_index('tpep_pickup_datetime'))\n"
   ]
  },
  {
   "cell_type": "code",
   "execution_count": 15,
   "metadata": {
    "slideshow": {
     "slide_type": "slide"
    }
   },
   "outputs": [
    {
     "data": {
      "text/plain": [
       "<matplotlib.axes._subplots.AxesSubplot at 0x117fb8610>"
      ]
     },
     "execution_count": 15,
     "metadata": {},
     "output_type": "execute_result"
    },
    {
     "data": {
      "image/png": "[encoded data removed]",
      "text/plain": [
       "<matplotlib.figure.Figure at 0x1181eb650>"
      ]
     },
     "metadata": {},
     "output_type": "display_data"
    }
   ],
   "source": [
    "# Plot daily average of passenger count\n",
    "%matplotlib inline\n",
    "(df.passenger_count\n",
    "       .resample('1d')\n",
    "       .mean()\n",
    "       .compute()\n",
    "       .plot())\n",
    "\n"
   ]
  },
  {
   "cell_type": "markdown",
   "metadata": {
    "slideshow": {
     "slide_type": "notes"
    }
   },
   "source": [
    "Note there is a pattern here, it looks to me like there are more passengers over the weekend?\n",
    "\n",
    "(Run other ad hoc commands if you like, change 1d to 1h for hourly data, or try tip_amount and figure out what happened on the 19th of Jan).\n",
    "\n",
    "So this is Dask. If you have big datasets you'd like to play with this is definitely worth exploring.\n",
    "\n",
    "(This demo was based on https://gist.github.com/mrocklin/fa8e30776e82d46015bfe8fd3b35fcb1 )"
   ]
  },
  {
   "cell_type": "markdown",
   "metadata": {
    "slideshow": {
     "slide_type": "slide"
    }
   },
   "source": [
    "## Oh no, theory!\n",
    "\n",
    "<img src=\"AmdahlsLaw.png\" width=\"50%\"/>"
   ]
  },
  {
   "cell_type": "markdown",
   "metadata": {
    "slideshow": {
     "slide_type": "notes"
    }
   },
   "source": [
    "Before we wrap up this section, a brief word on the theory that limits how far you can go with parallelization.\n",
    "\n",
    "Amdahl's Law places a hard limit on how much speedup you can achieve according to how much of your code runs serially. For instance, if only 75% of your code runs in parallel (in terms of execution time), you won't get any significant speedup beyond about about 100 cores. In other words, there's no use throwing 500 cores at the problem -- it won't get any faster!\n",
    "\n",
    "In practice, we tend to size our problems according to how much computing power we have available. You might have more than you think, as we'll discuss in the next section."
   ]
  },
  {
   "cell_type": "markdown",
   "metadata": {
    "slideshow": {
     "slide_type": "slide"
    }
   },
   "source": [
    "## Wanna get really serious? Use a GPU!\n",
    "\n",
    "<img src=\"gpu.png\"/>\n",
    "\n",
    "(aka *G*raphical *P*rocessing *U*nit)"
   ]
  },
  {
   "cell_type": "markdown",
   "metadata": {
    "slideshow": {
     "slide_type": "notes"
    }
   },
   "source": [
    "Before wrapping up, I mention this as a super-advanced trick some of you might like to take advantage of someday. I stress this is probably something that most of you will never need, but handy to know about just in case!\n",
    "\n",
    "GPUs, the things traditionally used to make video games run fast, are very well suited to certain classes of computational problem, and for those cases are much faster than using a CPU alone. You can even buy special general purpose GPUs (GPGPU) that don't actually have a video output; their job is only to run calculations for you.\n",
    "\n",
    "Roughly speaking, a GPU has hundreds of simple cores running in parallel, communicating via shared memory. So the basic premise is the same as we've discussed, but at a larger scale."
   ]
  },
  {
   "cell_type": "markdown",
   "metadata": {
    "slideshow": {
     "slide_type": "slide"
    }
   },
   "source": [
    "### Options for GPU Programming in Python\n",
    "\n",
    "PyCuda: https://mathema.tician.de/software/pycuda/\n",
    "\n",
    "Numba: http://numba.pydata.org/numba-doc/0.13/CUDAJit.html"
   ]
  },
  {
   "cell_type": "markdown",
   "metadata": {
    "slideshow": {
     "slide_type": "notes"
    }
   },
   "source": [
    "GPUs need special code to run, usually in a language called CUDA.\n",
    "\n",
    "We can use CUDA in Python via PyCUDA. We can write CUDA directly inline, or we can use some shortcuts that let us stay in Python.\n",
    "\n",
    "Numba is another option, and can generate and compile CUDA automatically for us.\n"
   ]
  },
  {
   "cell_type": "markdown",
   "metadata": {
    "slideshow": {
     "slide_type": "slide"
    }
   },
   "source": [
    "### Which technique do I choose?\n"
   ]
  },
  {
   "cell_type": "markdown",
   "metadata": {
    "slideshow": {
     "slide_type": "slide"
    }
   },
   "source": [
    "<blockquote>I have a thousand images to process. Each one takes about 5 minutes, and they don't depend on one another.</blockquote>\n",
    "\n",
    "Embarassingly Parallel"
   ]
  },
  {
   "cell_type": "markdown",
   "metadata": {
    "slideshow": {
     "slide_type": "notes"
    }
   },
   "source": [
    "(Discussion)\n",
    "\n",
    "So this will take ~3 days. If it's a one off, perhaps we can just tolerate it?\n",
    "\n",
    "If not, run a few python instances at once, and maybe reduce this by 2-4x? Could use multiprocessing instead for this, if we like.\n",
    "\n",
    "If we want to get really serious, we could use what's called a job array on a supercomputer, and potentially knock this whole thing over in < an hour!"
   ]
  },
  {
   "cell_type": "markdown",
   "metadata": {
    "slideshow": {
     "slide_type": "slide"
    }
   },
   "source": [
    "<blockquote>I've written a simulation of coral growth. It doesn't take long to run, but I need to try it with many different combinations of parameters, which will take ages.</blockquote>\n",
    "\n",
    "Embarassingly Parallel"
   ]
  },
  {
   "cell_type": "markdown",
   "metadata": {
    "slideshow": {
     "slide_type": "notes"
    }
   },
   "source": [
    "(Discussion)\n",
    "\n",
    "So perhaps we have 5 sets of parameters, with 100 steps each? We could iterate through each in Python, kicking off tasks for each? `multiprocessing` could work for this, as could iPython Parallel if we need more than one computer to finish in a sensible amount of time."
   ]
  },
  {
   "cell_type": "markdown",
   "metadata": {
    "slideshow": {
     "slide_type": "slide"
    }
   },
   "source": [
    "<blockquote>I have a genomics pipeline that includes a step where the data is split into chunks for processing before being recombined.</blockquote>\n",
    "\n",
    "Multicore (maybe multinode if big enough)\n",
    "\n",
    "\n"
   ]
  },
  {
   "cell_type": "markdown",
   "metadata": {
    "slideshow": {
     "slide_type": "notes"
    }
   },
   "source": [
    "(Discussion)\n",
    "\n",
    "So we could do this all from the same script in `multiprocessing`. If we need more than one computer however, we might need to look to iPython Parallel or Dask. "
   ]
  },
  {
   "cell_type": "markdown",
   "metadata": {
    "slideshow": {
     "slide_type": "slide"
    }
   },
   "source": [
    "<blockquote>I'm simulating a jet turbine by modelling the physics and chemistry within discrete volumes of space which interact with adjoining volumes over time. The more volumes I can simulate the better!</blockquote>\n",
    "\n",
    "Multinode"
   ]
  },
  {
   "cell_type": "markdown",
   "metadata": {
    "slideshow": {
     "slide_type": "notes"
    }
   },
   "source": [
    "(Discussion)\n",
    "\n",
    "This is really a classic use-case for MPI, where we might assign hundreds of computers to the job, allowing one CPU for each discrete volume of space. GPUs are increasingly being used for this type of work too (either on a single machine, or also across a cluster)."
   ]
  }
 ],
 "metadata": {
  "celltoolbar": "Slideshow",
  "kernelspec": {
   "display_name": "Python 2",
   "language": "python",
   "name": "python2"
  },
  "language_info": {
   "codemirror_mode": {
    "name": "ipython",
    "version": 2
   },
   "file_extension": ".py",
   "mimetype": "text/x-python",
   "name": "python",
   "nbconvert_exporter": "python",
   "pygments_lexer": "ipython2",
   "version": "2.7.13"
  }
 },
 "nbformat": 4,
 "nbformat_minor": 2
}

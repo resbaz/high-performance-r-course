{
 "cells": [
  {
   "cell_type": "markdown",
   "metadata": {
    "slideshow": {
     "slide_type": "slide"
    }
   },
   "source": [
    "## Part 4: Cloud & High Performance Computing"
   ]
  },
  {
   "cell_type": "markdown",
   "metadata": {
    "slideshow": {
     "slide_type": "notes"
    }
   },
   "source": [
    "Most of the techniques we've discussed so far are relevant to your personal computer, but what if this still isn't enough and you need a bigger computer?\n",
    "\n",
    "Don't worry, you needn't buy your own, we have lots of resources available for you to use for free!"
   ]
  },
  {
   "cell_type": "markdown",
   "metadata": {
    "slideshow": {
     "slide_type": "slide"
    }
   },
   "source": [
    "## What resources are available to me @ UoM?\n",
    "* Nectar Research Cloud\n",
    "* High Performance Computing (HPC) - Spartan\n",
    "* National supercomputing centres via competitive allocation process - NCI (Canberra) and Pawsey (Perth)\n"
   ]
  },
  {
   "cell_type": "markdown",
   "metadata": {
    "slideshow": {
     "slide_type": "slide"
    }
   },
   "source": [
    "## Nectar Research Cloud\n",
    "* Create your own virtual machines (VMs) in the cloud.\n",
    "* Create small VMs (1 core, ~1GB RAM) to big VMs (12+ cores, 30GB RAM). \n",
    "* Install whatever you like.\n",
    "* Self-managed.\n",
    "* Free!\n"
   ]
  },
  {
   "cell_type": "markdown",
   "metadata": {
    "slideshow": {
     "slide_type": "slide"
    }
   },
   "source": [
    "## High Performance Computing\n",
    "* i.e. a supercomputer!\n",
    "* Larger scale and managed, but you might have to wait in a queue\n",
    "* Shared resource\n",
    "* Software usually installed for you\n",
    "* Linux apps only\n",
    "* Our local supercomputer = Spartan\n",
    "* Also free!"
   ]
  },
  {
   "cell_type": "markdown",
   "metadata": {
    "slideshow": {
     "slide_type": "slide"
    }
   },
   "source": [
    "## Which to choose?\n",
    "\n",
    "Both work well with Python.\n",
    "\n",
    "Need complete control? Don't like sharing/waiting? Hosting a web service? ➡️ Nectar Cloud\n",
    "\n",
    "Don't want to manage a system yourself? Need enormous scale? ➡️ HPC"
   ]
  },
  {
   "cell_type": "markdown",
   "metadata": {
    "slideshow": {
     "slide_type": "slide"
    }
   },
   "source": [
    "## Nectar Demo\n",
    "\n",
    "For self-training, check out http://training.nectar.org.au/ \n",
    "\n",
    "Or be notified of next in-person training at: http://melbourne.resbaz.edu.au/participate\n"
   ]
  },
  {
   "cell_type": "markdown",
   "metadata": {
    "slideshow": {
     "slide_type": "notes"
    }
   },
   "source": [
    "Quick Nectar Demo\n",
    "* Signing into Dashboard.\n",
    "* Creating a VM\n",
    "* Logging in to VM.\n",
    "* Installing Conda\n",
    "* Starting Python\n",
    "\n",
    "This is just a whirlwind tour rather than a tutorial. To get started, check out out the Nectar documentation, or keep an eye out for training.\n"
   ]
  },
  {
   "cell_type": "markdown",
   "metadata": {
    "collapsed": true,
    "slideshow": {
     "slide_type": "slide"
    }
   },
   "source": [
    "## HPC Demo\n",
    "\n",
    "Documentation and account signup instructions at: https://dashboard.hpc.unimelb.edu.au/\n",
    "\n",
    "We run dedicated HPC training, including introduction to Linux command line, signup at: http://melbourne.resbaz.edu.au/participate "
   ]
  },
  {
   "cell_type": "markdown",
   "metadata": {
    "slideshow": {
     "slide_type": "notes"
    }
   },
   "source": [
    "### Quick Spartan Demo\n",
    "* Login to cluster\n",
    "* Show available software (inc. Python versions)\n",
    "* Show how to check cluster status\n",
    "* Show how to start interactive session\n",
    "* Show slurm script for each of:\n",
    "    * Embarrassingly parallel (job array)\n",
    "    * Multicore\n",
    "    * Mulinode\n",
    "* Show job submission\n",
    "* Show job monitoring\n",
    "\n",
    "\n",
    "Cheat sheet/commands for above."
   ]
  },
  {
   "cell_type": "markdown",
   "metadata": {
    "slideshow": {
     "slide_type": "notes"
    }
   },
   "source": [
    "Challenge here to run an existing python job on Spartan (just practice logging in and running commands)?"
   ]
  },
  {
   "cell_type": "markdown",
   "metadata": {
    "collapsed": true,
    "slideshow": {
     "slide_type": "slide"
    }
   },
   "source": [
    "### The End\n",
    "\n",
    "Questions?"
   ]
  }
 ],
 "metadata": {
  "celltoolbar": "Slideshow",
  "kernelspec": {
   "display_name": "Python 2",
   "language": "python",
   "name": "python2"
  },
  "language_info": {
   "codemirror_mode": {
    "name": "ipython",
    "version": 2
   },
   "file_extension": ".py",
   "mimetype": "text/x-python",
   "name": "python",
   "nbconvert_exporter": "python",
   "pygments_lexer": "ipython2",
   "version": "2.7.13"
  }
 },
 "nbformat": 4,
 "nbformat_minor": 2
}
